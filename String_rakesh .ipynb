{
 "cells": [
  {
   "cell_type": "markdown",
   "id": "35fef8af",
   "metadata": {},
   "source": [
    "# 1. Write a python program to convert a string to lowercase\n"
   ]
  },
  {
   "cell_type": "code",
   "execution_count": 11,
   "id": "b90b3ba9",
   "metadata": {},
   "outputs": [],
   "source": [
    "str1 = \"cloud computing\""
   ]
  },
  {
   "cell_type": "code",
   "execution_count": 6,
   "id": "fb7bef3c",
   "metadata": {},
   "outputs": [
    {
     "data": {
      "text/plain": [
       "'cloud computing'"
      ]
     },
     "execution_count": 6,
     "metadata": {},
     "output_type": "execute_result"
    }
   ],
   "source": [
    "str1 . lower()"
   ]
  },
  {
   "cell_type": "code",
   "execution_count": null,
   "id": "803e75ec",
   "metadata": {},
   "outputs": [],
   "source": []
  },
  {
   "cell_type": "markdown",
   "id": "da359460",
   "metadata": {},
   "source": [
    "#  2 . Write a python program to convert only odd indexed characters to lowercase\n",
    "\n",
    "# Ex: PYTHON\n",
    "# Output: - PyThOn\n",
    "\n"
   ]
  },
  {
   "cell_type": "code",
   "execution_count": 15,
   "id": "bf11830a",
   "metadata": {},
   "outputs": [
    {
     "data": {
      "text/plain": [
       "'Cloud Computing'"
      ]
     },
     "execution_count": 15,
     "metadata": {},
     "output_type": "execute_result"
    }
   ],
   "source": [
    "str1 = str1.title()\n",
    "str1"
   ]
  },
  {
   "cell_type": "code",
   "execution_count": 9,
   "id": "64925c9f",
   "metadata": {},
   "outputs": [
    {
     "data": {
      "text/plain": [
       "'ClOuD CoMpUtInG'"
      ]
     },
     "execution_count": 9,
     "metadata": {},
     "output_type": "execute_result"
    }
   ],
   "source": [
    "str1.replace('Cloud Computing','ClOuD CoMpUtInG')"
   ]
  },
  {
   "cell_type": "code",
   "execution_count": null,
   "id": "a275868f",
   "metadata": {},
   "outputs": [],
   "source": []
  },
  {
   "cell_type": "markdown",
   "id": "9aeb62e3",
   "metadata": {},
   "source": [
    "\n",
    "# 3. Write a python program to convert only even indexed characters to lowercase\n",
    "\n",
    "Ex: PYTHON\n",
    "Output: - pYtHoN\n",
    "\n",
    "\n",
    "\n",
    "\n",
    "\n",
    "\n"
   ]
  },
  {
   "cell_type": "code",
   "execution_count": 33,
   "id": "7ccf2459",
   "metadata": {},
   "outputs": [],
   "source": [
    "str1 = \"PYTHON\""
   ]
  },
  {
   "cell_type": "code",
   "execution_count": 39,
   "id": "d1ed5aa2",
   "metadata": {},
   "outputs": [
    {
     "name": "stdout",
     "output_type": "stream",
     "text": [
      "pYtHoN\n"
     ]
    }
   ],
   "source": [
    "\n",
    "    for i in range(len(s)):\n",
    "        if i % 2 == 0:\n",
    "            result += s[i].lower()\n",
    "        else:\n",
    "            result += s[i]\n",
    "s = \"PYTHON\"\n",
    "result = convert_even_index_to_lowercase(s)\n",
    "print(result) "
   ]
  },
  {
   "cell_type": "code",
   "execution_count": null,
   "id": "b500b892",
   "metadata": {},
   "outputs": [],
   "source": []
  },
  {
   "cell_type": "markdown",
   "id": "67a5259f",
   "metadata": {},
   "source": [
    "# 4. Write a python program to convert only odd indexed characters to uppercase\n",
    "\n",
    "Ex: python\n",
    "Output: pYtHoN\n"
   ]
  },
  {
   "cell_type": "code",
   "execution_count": null,
   "id": "4c0306b4",
   "metadata": {},
   "outputs": [],
   "source": [
    "str1 = \"python\""
   ]
  },
  {
   "cell_type": "code",
   "execution_count": 15,
   "id": "aa3ffb6b",
   "metadata": {},
   "outputs": [
    {
     "name": "stdout",
     "output_type": "stream",
     "text": [
      "p Y t H o N \n"
     ]
    }
   ],
   "source": [
    "string = \"python\"\n",
    "result = \"\"\n",
    "for i in range(len(string)):\n",
    "    if i % 2 == 0:\n",
    "        print(\"\".join(string[i]),end=\" \")\n",
    "    else:\n",
    "        print(\"\".join(string[i].upper()),end =\" \")\n",
    "\n",
    "print(result)"
   ]
  },
  {
   "cell_type": "code",
   "execution_count": null,
   "id": "1e674823",
   "metadata": {},
   "outputs": [],
   "source": []
  },
  {
   "cell_type": "markdown",
   "id": "7ea8eb72",
   "metadata": {},
   "source": [
    "# 5. Write a python program to convert only even indexed characters to uppercase\n",
    "\n",
    "Ex: python\n",
    "Output: - PyThOn\n"
   ]
  },
  {
   "cell_type": "code",
   "execution_count": 47,
   "id": "3ba1dd42",
   "metadata": {},
   "outputs": [],
   "source": [
    "str1 = \"python\""
   ]
  },
  {
   "cell_type": "code",
   "execution_count": 4,
   "id": "d5bce949",
   "metadata": {},
   "outputs": [
    {
     "data": {
      "text/plain": [
       "'python'"
      ]
     },
     "execution_count": 4,
     "metadata": {},
     "output_type": "execute_result"
    }
   ],
   "source": [
    "str1.title()\n",
    "str1"
   ]
  },
  {
   "cell_type": "code",
   "execution_count": 48,
   "id": "e6c40813",
   "metadata": {},
   "outputs": [
    {
     "name": "stdout",
     "output_type": "stream",
     "text": [
      "PyThOn\n"
     ]
    }
   ],
   "source": [
    "result = \"\"\n",
    "\n",
    "for index, character in enumerate(string):\n",
    "    if index % 2 == 0:\n",
    "        result += character.upper()\n",
    "    else:\n",
    "        result += character\n",
    "\n",
    "print(result)"
   ]
  },
  {
   "cell_type": "code",
   "execution_count": null,
   "id": "ced2b1b2",
   "metadata": {},
   "outputs": [],
   "source": []
  },
  {
   "cell_type": "markdown",
   "id": "a1d6dd02",
   "metadata": {},
   "source": [
    "# 6. Write a python program where you have different variables which contain your name, gender, age, phone number, father’s name and mother’s name. And by using this variable create a variable named bio-data where you will use all this variable\n",
    "\n",
    "Ex: print(bio-data)\n",
    "\n",
    "Output:- My name is …., My age is ….,My phone-no is ….,my father’s name is …,and my mother’s name is…"
   ]
  },
  {
   "cell_type": "code",
   "execution_count": 41,
   "id": "1a5a4949",
   "metadata": {},
   "outputs": [],
   "source": [
    "name = \"Rakesh\"\n",
    "age = 23\n",
    "phone = 8894972345\n",
    "father = \"Srinivas\"\n",
    "mother = \"Mamatha\""
   ]
  },
  {
   "cell_type": "code",
   "execution_count": 49,
   "id": "59a5ce66",
   "metadata": {},
   "outputs": [
    {
     "data": {
      "text/plain": [
       "\"my name is Rakesh,my age is 23,my phone no is 8894972345,my father's name is Srinivas,and my mother's name is Mamatha,\""
      ]
     },
     "execution_count": 49,
     "metadata": {},
     "output_type": "execute_result"
    }
   ],
   "source": [
    "\"my name is\"+\" \"+ name+\",\"+\"my age is\"+\" \"+str(age)+\",\"+\"my phone no is\"+\" \"+str(phone)+\",\"+\"my father's name is\"+\" \"+father+\",\"+\"and my mother's name is\"+\" \"+mother+\",\""
   ]
  },
  {
   "cell_type": "code",
   "execution_count": null,
   "id": "cd906fce",
   "metadata": {},
   "outputs": [],
   "source": []
  },
  {
   "cell_type": "markdown",
   "id": "5548b09f",
   "metadata": {},
   "source": [
    "# 7. Write a python program to count how many times “@” occurred\n",
    " Ex: S@ndhy@ \n",
    "Output: 2\n"
   ]
  },
  {
   "cell_type": "code",
   "execution_count": null,
   "id": "b4758e59",
   "metadata": {},
   "outputs": [],
   "source": [
    "--"
   ]
  },
  {
   "cell_type": "code",
   "execution_count": 2,
   "id": "50006a18",
   "metadata": {},
   "outputs": [],
   "source": [
    "var = \"Sandhya\""
   ]
  },
  {
   "cell_type": "code",
   "execution_count": 5,
   "id": "e882d3ce",
   "metadata": {},
   "outputs": [
    {
     "name": "stdout",
     "output_type": "stream",
     "text": [
      "S@ndhy@\n"
     ]
    }
   ],
   "source": [
    "var = var.replace(\"a\",\"@\")\n",
    "print(var)"
   ]
  },
  {
   "cell_type": "code",
   "execution_count": 7,
   "id": "439a487f",
   "metadata": {},
   "outputs": [
    {
     "data": {
      "text/plain": [
       "2"
      ]
     },
     "execution_count": 7,
     "metadata": {},
     "output_type": "execute_result"
    }
   ],
   "source": [
    "var.count(\"@\")"
   ]
  },
  {
   "cell_type": "code",
   "execution_count": null,
   "id": "149b1d64",
   "metadata": {},
   "outputs": [],
   "source": []
  },
  {
   "cell_type": "markdown",
   "id": "ae1d1270",
   "metadata": {},
   "source": [
    "\n",
    "# 8. Write a python program to get only names from the string\n",
    "\n",
    "Ex: “name1.@gmail.com, name2.@gmail.com, name#3.@gmail.com”\n",
    "\t\n",
    "Output-name1, name2, name3\n"
   ]
  },
  {
   "cell_type": "code",
   "execution_count": 45,
   "id": "59be467c",
   "metadata": {},
   "outputs": [],
   "source": [
    "s =  \"name1.@gmail.com, name2.@gmail.com, name#3.@gmail.com\"\n"
   ]
  },
  {
   "cell_type": "code",
   "execution_count": 46,
   "id": "23442d56",
   "metadata": {},
   "outputs": [
    {
     "data": {
      "text/plain": [
       "['name1', ', name2', ', name#3', '']"
      ]
     },
     "execution_count": 46,
     "metadata": {},
     "output_type": "execute_result"
    }
   ],
   "source": [
    " s.split(\".@gmail.com\")"
   ]
  },
  {
   "cell_type": "code",
   "execution_count": null,
   "id": "6b77048a",
   "metadata": {},
   "outputs": [],
   "source": []
  },
  {
   "cell_type": "markdown",
   "id": "896a6b5e",
   "metadata": {},
   "source": [
    "# 9. Write a program to remove vowels from the entire alphabets\n",
    "\n",
    "Ex: “abcdefghijklmnopqrstuvwxyz”\n",
    "\n",
    "Output: “bcdfghjklmnpqrstvwxyz”"
   ]
  },
  {
   "cell_type": "code",
   "execution_count": 41,
   "id": "082c1228",
   "metadata": {},
   "outputs": [
    {
     "data": {
      "text/plain": [
       "'bcdfghjklmnpqrstvwxyz'"
      ]
     },
     "execution_count": 41,
     "metadata": {},
     "output_type": "execute_result"
    }
   ],
   "source": [
    "R = \"abcdefghijklmnopqrstuvwxyz\"\n",
    "R [1:4:1]+ R[5:8:1]+R[9:14:1]+R[15:20:1]+R[21:26:1]"
   ]
  },
  {
   "cell_type": "code",
   "execution_count": null,
   "id": "58942eed",
   "metadata": {},
   "outputs": [],
   "source": []
  },
  {
   "cell_type": "markdown",
   "id": "ccb1e113",
   "metadata": {},
   "source": [
    "# 10. Find all occurrences of a substring in a given string by ignoring the case\n",
    "\n",
    "Ex: str1 = \"Welcome to Innomatics. innomatics awesome, isn't it?\"\n",
    "\n",
    "Output: innomatics count is: 2\n"
   ]
  },
  {
   "cell_type": "code",
   "execution_count": 38,
   "id": "6a96a796",
   "metadata": {},
   "outputs": [],
   "source": [
    "str1 = \" Welcome to Innomatics , Innomatics is Awesome isn't it? \""
   ]
  },
  {
   "cell_type": "code",
   "execution_count": 39,
   "id": "612d732e",
   "metadata": {},
   "outputs": [
    {
     "data": {
      "text/plain": [
       "2"
      ]
     },
     "execution_count": 39,
     "metadata": {},
     "output_type": "execute_result"
    }
   ],
   "source": [
    "str1.count(\"Innomatics\")"
   ]
  },
  {
   "cell_type": "code",
   "execution_count": null,
   "id": "2e52b83e",
   "metadata": {},
   "outputs": [],
   "source": []
  }
 ],
 "metadata": {
  "kernelspec": {
   "display_name": "Python 3 (ipykernel)",
   "language": "python",
   "name": "python3"
  },
  "language_info": {
   "codemirror_mode": {
    "name": "ipython",
    "version": 3
   },
   "file_extension": ".py",
   "mimetype": "text/x-python",
   "name": "python",
   "nbconvert_exporter": "python",
   "pygments_lexer": "ipython3",
   "version": "3.9.13"
  }
 },
 "nbformat": 4,
 "nbformat_minor": 5
}
